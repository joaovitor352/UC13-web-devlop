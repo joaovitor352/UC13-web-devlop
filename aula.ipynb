{
 "cells": [
  {
   "cell_type": "code",
   "execution_count": 21,
   "metadata": {},
   "outputs": [
    {
     "name": "stdout",
     "output_type": "stream",
     "text": [
      "O resultado da subtracao de 25 e 36 é -11\n"
     ]
    }
   ],
   "source": [
    "def soma(a, b):\n",
    "    return a + b\n",
    "\n",
    "def subtracao(a, b):\n",
    "    return a - b\n",
    "\n",
    "def divisao(a, b):\n",
    "    if b == 0:\n",
    "        return \"Erro: Divisão por zero!\"\n",
    "    return a / b\n",
    "\n",
    "def multi(a, b):\n",
    "    return a * b\n",
    "\n",
    "def porcent(a, b):\n",
    "    return (a / 100) * b\n",
    "\n",
    "# Solicita os números ao usuário\n",
    "a = int(input(\"Digite um número: \"))\n",
    "b = int(input(\"Digite outro número: \"))\n",
    "\n",
    "# Solicita a operação ao usuário\n",
    "operacao = input(\"Digite a operação desejada (soma, subtracao, divisao, multi, porcent): \")\n",
    "\n",
    "# Executa a operação selecionada\n",
    "if operacao == \"soma\":\n",
    "    resultado = soma(a, b)\n",
    "elif operacao == \"subtracao\":\n",
    "    resultado = subtracao(a, b)\n",
    "elif operacao == \"divisao\":\n",
    "    resultado = divisao(a, b)\n",
    "elif operacao == \"multi\":\n",
    "    resultado = multi(a, b)\n",
    "elif operacao == \"porcent\":\n",
    "    resultado = porcent(a, b)\n",
    "else:\n",
    "    resultado = \"Operação inválida!\"\n",
    "\n",
    "# Exibe o resultado\n",
    "print(f\"O resultado da {operacao} de {a} e {b} é {resultado}\")"
   ]
  },
  {
   "cell_type": "code",
   "execution_count": null,
   "metadata": {},
   "outputs": [
    {
     "name": "stdout",
     "output_type": "stream",
     "text": [
      "o resultado da <function porcent at 0x000001E61F4EE8E0> de 20 % 500 e 100.0\n"
     ]
    }
   ],
   "source": [
    "def soma(a, b):\n",
    "    return a + b\n",
    "\n",
    "def subtração(a, b):\n",
    "    return a - b\n",
    "\n",
    "def divisão(a, b):\n",
    "    return a / b\n",
    "\n",
    "def multi(a, b):\n",
    "    return a * b\n",
    "\n",
    "def porcent(a, b):\n",
    "    return (a/100)*b\n",
    "\n",
    "\n",
    "a = int(input(\"digite um numero\"))\n",
    "b = int(input(\"digite um numero:\"))\n",
    "\n",
    "calc = porcent(a, b)\n",
    "print(f\"o resultado da {Operacao} de {a} % {b} e {calc}\")"
   ]
  }
 ],
 "metadata": {
  "kernelspec": {
   "display_name": "Python 3",
   "language": "python",
   "name": "python3"
  },
  "language_info": {
   "codemirror_mode": {
    "name": "ipython",
    "version": 3
   },
   "file_extension": ".py",
   "mimetype": "text/x-python",
   "name": "python",
   "nbconvert_exporter": "python",
   "pygments_lexer": "ipython3",
   "version": "3.12.4"
  }
 },
 "nbformat": 4,
 "nbformat_minor": 2
}
